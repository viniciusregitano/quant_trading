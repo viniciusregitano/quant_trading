{
 "cells": [
  {
   "cell_type": "code",
   "execution_count": 1,
   "metadata": {
    "scrolled": true
   },
   "outputs": [
    {
     "name": "stdout",
     "output_type": "stream",
     "text": [
      "Requirement already satisfied: metatrader5 in c:\\users\\teste\\anaconda3\\lib\\site-packages (5.0.4993)\n",
      "Requirement already satisfied: numpy>=1.7 in c:\\users\\teste\\anaconda3\\lib\\site-packages (from metatrader5) (1.24.3)\n"
     ]
    }
   ],
   "source": [
    "!pip install metatrader5"
   ]
  },
  {
   "cell_type": "code",
   "execution_count": 2,
   "metadata": {},
   "outputs": [],
   "source": [
    "import MetaTrader5 as mt5\n",
    "import time\n",
    "from os.path import exists\n",
    "import operator\n",
    "from datetime import datetime, timedelta\n",
    "import pandas as pd\n",
    "from numpy import nan\n",
    "import calendar"
   ]
  },
  {
   "cell_type": "code",
   "execution_count": 6,
   "metadata": {},
   "outputs": [],
   "source": [
    "class SymbolUtil():\n",
    "\n",
    "    @staticmethod\n",
    "    def get_ticker_from_date(date: str, symbol: str) -> str:\n",
    "        \"\"\"Gets the specific ticker from the given date.\n",
    "\n",
    "        Args:\n",
    "            date (str): date (Example: 20210531)\n",
    "            symbol (str): symbol (Example: WDO or WIN)\n",
    "\n",
    "        Returns:\n",
    "            ticker (str): complete symbol (For example, WINJ21)\n",
    "        \"\"\"\n",
    "\n",
    "        if \"WIN\" not in symbol.upper() and \"WDO\" not in symbol.upper():\n",
    "            return symbol\n",
    "\n",
    "        return SymbolUtil.apply_win_rule(date) \\\n",
    "            if \"WIN\" in symbol else SymbolUtil.apply_wdo_rule(date)\n",
    "\n",
    "    @staticmethod\n",
    "    def apply_wdo_rule(input_date: str) -> str:\n",
    "        \"\"\"Recovers the specific ticker for WDO from the given date\n",
    "\n",
    "        Args:\n",
    "            input_date (str): date in the yyyymmdd format (Example: 20210531)\n",
    "\n",
    "        Returns:\n",
    "            str: specific ticker (For example: WDOM21)\n",
    "        \"\"\"\n",
    "        input_month = input_date[4:6]\n",
    "        input_year = input_date[2:4]\n",
    "        input_day = input_date[6:]\n",
    "        last_day = SymbolUtil.last_business_day_in_month(\n",
    "            int(input_year), int(input_month))\n",
    "        wdo_rules = {\n",
    "            '01': 'WDOG',\n",
    "            '02': 'WDOH',\n",
    "            '03': 'WDOJ',\n",
    "            '04': 'WDOK',\n",
    "            '05': 'WDOM',\n",
    "            '06': 'WDON',\n",
    "            '07': 'WDOQ',\n",
    "            '08': 'WDOU',\n",
    "            '09': 'WDOV',\n",
    "            '10': 'WDOX',\n",
    "            '11': 'WDOZ',\n",
    "            '12': 'WDOF',\n",
    "            '13': 'WDOG'\n",
    "        }\n",
    "        if int(input_day) >= last_day:\n",
    "            input_month = str(int(input_month) + 1).zfill(2)\n",
    "        if input_month == \"12\":\n",
    "            input_year = str(int(input_year) + 1)\n",
    "        return wdo_rules[input_month] + input_year\n",
    "\n",
    "    @staticmethod\n",
    "    def apply_win_rule(input_date: str) -> str:\n",
    "        \"\"\"Recovers the specific ticker for WIN from the given date\n",
    "\n",
    "        Args:\n",
    "            input_date (str): date in the yyyymmdd format (Example: 20210531)\n",
    "\n",
    "        Returns:\n",
    "            str: specific ticker (For example: WINM21)\n",
    "        \"\"\"\n",
    "        win_rules = {\n",
    "            '01': 'WING',\n",
    "            '03': 'WINJ',\n",
    "            '05': 'WINM',\n",
    "            '07': 'WINQ',\n",
    "            '09': 'WINV',\n",
    "            '11': 'WINZ'\n",
    "        }\n",
    "        input_month = input_date[4:6]\n",
    "        input_year = input_date[:4]\n",
    "        input_day = input_date[6:]\n",
    "        year_win_last_letters = input_date[2:4]\n",
    "        fifteen_day = datetime(int(input_year), int(input_month), 15)\n",
    "        day_week_15 = fifteen_day.weekday()\n",
    "        next_rule = SymbolUtil.get_next_wednesday(day_week_15)\n",
    "        win_rule_is = None\n",
    "        if int(input_month) % 2 == 0:\n",
    "            if int(input_day) >= next_rule:\n",
    "                month_rule = str(int(input_month) + 1)\n",
    "                if int(month_rule) > 12:\n",
    "                    month_rule = \"1\"\n",
    "                month_rule = month_rule.rjust(2, '0')\n",
    "                win_rule_is = win_rules[month_rule]\n",
    "            else:\n",
    "                month_rule = str(int(input_month) - 1)\n",
    "                month_rule = month_rule.rjust(2, '0')\n",
    "                win_rule_is = win_rules[month_rule]\n",
    "        else:\n",
    "            win_rule_is = win_rules[input_month]\n",
    "        if win_rule_is == \"WING\" and input_month == \"12\":\n",
    "            year_win_last_letters = str(int(year_win_last_letters) + 1)\n",
    "            return win_rule_is + year_win_last_letters\n",
    "        else:\n",
    "            return win_rule_is + year_win_last_letters\n",
    "\n",
    "    @staticmethod\n",
    "    def last_business_day_in_month(year: int, month: int) -> int:\n",
    "        \"\"\"Gets the last business day from the given period of time\n",
    "\n",
    "        Args:\n",
    "            year (int): year (Example: 2021)\n",
    "            month (int): month (Example: 10)\n",
    "\n",
    "        Returns:\n",
    "            int: last business day\n",
    "        \"\"\"\n",
    "        return max(calendar.monthcalendar(year, month)[-1:][0][:5])\n",
    "\n",
    "    @staticmethod\n",
    "    def get_next_wednesday(day15: int) -> int:\n",
    "        \"\"\"Gets the Wednesday closest to the 15th of the month\n",
    "\n",
    "        Args:\n",
    "            day15 (int): represents the day of the week of 15th of the month\n",
    "\n",
    "        Returns:\n",
    "            int: day of the month closest to the 15th\n",
    "        \"\"\"\n",
    "        if day15 == 6:\n",
    "            return 15 + 3\n",
    "        elif day15 < 2:\n",
    "            return (2 - day15) + 15\n",
    "        elif day15 > 2 and day15 < 6:\n",
    "            return 15 - (day15 - 2)\n",
    "        else:\n",
    "            return 15"
   ]
  },
  {
   "cell_type": "code",
   "execution_count": null,
   "metadata": {
    "tags": [
     "parameters"
    ]
   },
   "outputs": [
    {
     "name": "stdout",
     "output_type": "stream",
     "text": [
      "WINM25\n"
     ]
    }
   ],
   "source": [
    "SYMBOL_PREFIX = \"WIN\"\n",
    "SYMBOL = SymbolUtil.get_ticker_from_date(datetime.now().strftime(\"%Y%m%d\"), SYMBOL_PREFIX)\n",
    "MAX_DEPTH = 10\n",
    "\n",
    "start_time = '09:05:00'\n",
    "end_time = '17:55:00'\n",
    "\n",
    "folder_path = 'data2/'\n",
    "\n",
    "time_delta = timedelta(milliseconds=10)\n",
    "batch_size = 1000\n",
    "\n",
    "print(SYMBOL)"
   ]
  },
  {
   "cell_type": "code",
   "execution_count": 9,
   "metadata": {},
   "outputs": [
    {
     "name": "stdout",
     "output_type": "stream",
     "text": [
      "()\n"
     ]
    }
   ],
   "source": [
    "# establish connection to the MetaTrader 5 terminal\n",
    "if not mt5.initialize():\n",
    "    print(\"initialize() failed, error code =\",mt5.last_error())\n",
    "   # shut down connection to the MetaTrader 5 terminal\n",
    "    mt5.shutdown()\n",
    "    quit()\n",
    "    \n",
    "# Testing the display of the SYMBOL in MarketWatch\n",
    "selected=mt5.symbol_select(SYMBOL,True)\n",
    "if not selected:\n",
    "    print(\"Failed to select \", SYMBOL)\n",
    "    mt5.shutdown()\n",
    "    \n",
    "# subscribe to market depth updates for SYMBOL (Depth of Market)\n",
    "if mt5.market_book_add(SYMBOL):\n",
    "    # get the market depth data\n",
    "    items = mt5.market_book_get(SYMBOL)\n",
    "    # display the entire market depth 'as is' in a single string\n",
    "    print(items)\n",
    "    # now display each order separately for more clarity\n",
    "    if items:\n",
    "        for it in items:\n",
    "            # order content\n",
    "            print(it._asdict())\n",
    "else:\n",
    "    print(f\"mt5.market_book_add('{SYMBOL}') failed, error code = {mt5.last_error()}\")"
   ]
  },
  {
   "cell_type": "code",
   "execution_count": 10,
   "metadata": {},
   "outputs": [
    {
     "name": "stdout",
     "output_type": "stream",
     "text": [
      "{'time': 1748626612752, 'last': 138155.0, 'mid': 138152.5, 'spread': 5.0, 'ask_price_0': 138155.0, 'ask_volume_0': 40.0, 'bid_price_0': 138150.0, 'bid_volume_0': 126.0, 'ask_price_1': 138160.0, 'ask_volume_1': 115.0, 'bid_price_1': 138145.0, 'bid_volume_1': 209.0, 'ask_price_2': 138165.0, 'ask_volume_2': 165.0, 'bid_price_2': 138140.0, 'bid_volume_2': 481.0, 'ask_price_3': 138170.0, 'ask_volume_3': 284.0, 'bid_price_3': 138135.0, 'bid_volume_3': 376.0, 'ask_price_4': 138175.0, 'ask_volume_4': 247.0, 'bid_price_4': 138130.0, 'bid_volume_4': 433.0, 'ask_price_5': 138180.0, 'ask_volume_5': 533.0, 'bid_price_5': 138125.0, 'bid_volume_5': 259.0, 'ask_price_6': 138185.0, 'ask_volume_6': 615.0, 'bid_price_6': 138120.0, 'bid_volume_6': 474.0, 'ask_price_7': 138190.0, 'ask_volume_7': 646.0, 'bid_price_7': 138115.0, 'bid_volume_7': 420.0, 'ask_price_8': 138195.0, 'ask_volume_8': 457.0, 'bid_price_8': 138110.0, 'bid_volume_8': 298.0, 'ask_price_9': 138200.0, 'ask_volume_9': 543.0, 'bid_price_9': 138105.0, 'bid_volume_9': 362.0}\n",
      "64 µs ± 6.32 µs per loop (mean ± std. dev. of 7 runs, 10,000 loops each)\n"
     ]
    }
   ],
   "source": [
    "def get_timed_book(symbol: str, max_depth: int = 10) -> dict:\n",
    "    book_data = mt5.market_book_get(symbol)\n",
    "    tick_data = mt5.symbol_info_tick(symbol)\n",
    "    \n",
    "    bids = sorted((book_info for book_info in book_data if book_info.type == 2), key= operator.attrgetter(\"price\"), reverse=True)[:max_depth]\n",
    "    asks = sorted((book_info for book_info in book_data if book_info.type == 1), key= operator.attrgetter(\"price\"), reverse=False)[:max_depth]\n",
    "     \n",
    "    obj = dict(\n",
    "            time = tick_data.time_msc,\n",
    "            last = tick_data.last,\n",
    "            mid =  (tick_data.bid + tick_data.ask) / 2,\n",
    "            spread = (tick_data.ask - tick_data.bid)\n",
    "        )\n",
    "    \n",
    "    len_bids = len(bids) \n",
    "    len_asks = len(asks)\n",
    "    \n",
    "    i: int = 0\n",
    "\n",
    "    for i in range(max_depth):\n",
    "        if len_asks > i:\n",
    "            obj['ask_price_'+str(i)] = asks[i].price\n",
    "            obj['ask_volume_'+str(i)] = asks[i].volume_dbl\n",
    "        else:\n",
    "            obj['ask_price_'+str(i)] = nan\n",
    "            obj['ask_volume_'+str(i)] = nan\n",
    "            \n",
    "        if len_bids > i:\n",
    "            obj['bid_price_'+str(i)] = bids[i].price\n",
    "            obj['bid_volume_'+str(i)] = bids[i].volume_dbl\n",
    "        else:\n",
    "            obj['bid_price_'+str(i)] = nan\n",
    "            obj['bid_volume_'+str(i)] = nan\n",
    "            \n",
    "    return obj\n",
    " \n",
    "print(get_timed_book(SYMBOL))\n",
    "%timeit book_data = get_timed_book(SYMBOL)"
   ]
  },
  {
   "cell_type": "code",
   "execution_count": 11,
   "metadata": {
    "scrolled": true
   },
   "outputs": [
    {
     "name": "stdout",
     "output_type": "stream",
     "text": [
      "New file created ! data2/WINM25_2025-05-30.csv\n",
      "Saved on  2025-05-30 17:37:14.361505\n",
      "Saved on  2025-05-30 17:37:30.467239\n",
      "Saved on  2025-05-30 17:37:46.052116\n",
      "Saved on  2025-05-30 17:38:01.285356\n",
      "Saved on  2025-05-30 17:38:16.118127\n",
      "Saved on  2025-05-30 17:38:32.386045\n",
      "Saved on  2025-05-30 17:38:48.736193\n",
      "Saved on  2025-05-30 17:39:05.051704\n",
      "Saved on  2025-05-30 17:39:21.587988\n",
      "Saved on  2025-05-30 17:39:37.523726\n",
      "Saved on  2025-05-30 17:39:52.725002\n",
      "Saved on  2025-05-30 17:40:08.805155\n",
      "Saved on  2025-05-30 17:40:25.244433\n",
      "Saved on  2025-05-30 17:40:41.529905\n",
      "Saved on  2025-05-30 17:40:58.083593\n"
     ]
    },
    {
     "ename": "KeyboardInterrupt",
     "evalue": "",
     "output_type": "error",
     "traceback": [
      "\u001b[1;31m---------------------------------------------------------------------------\u001b[0m",
      "\u001b[1;31mKeyboardInterrupt\u001b[0m                         Traceback (most recent call last)",
      "Cell \u001b[1;32mIn[11], line 32\u001b[0m\n\u001b[0;32m     29\u001b[0m last_saved_time \u001b[38;5;241m=\u001b[39m time_now\n\u001b[0;32m     30\u001b[0m i\u001b[38;5;241m+\u001b[39m\u001b[38;5;241m=\u001b[39m\u001b[38;5;241m1\u001b[39m\n\u001b[1;32m---> 32\u001b[0m new_data \u001b[38;5;241m=\u001b[39m get_timed_book(SYMBOL, MAX_DEPTH)\n\u001b[0;32m     33\u001b[0m \u001b[38;5;28;01mif\u001b[39;00m new_data[\u001b[38;5;124m'\u001b[39m\u001b[38;5;124mtime\u001b[39m\u001b[38;5;124m'\u001b[39m] \u001b[38;5;241m!=\u001b[39m old_data[\u001b[38;5;124m'\u001b[39m\u001b[38;5;124mtime\u001b[39m\u001b[38;5;124m'\u001b[39m]:\n\u001b[0;32m     34\u001b[0m     data\u001b[38;5;241m.\u001b[39mappend(new_data)\n",
      "Cell \u001b[1;32mIn[10], line 3\u001b[0m, in \u001b[0;36mget_timed_book\u001b[1;34m(symbol, max_depth)\u001b[0m\n\u001b[0;32m      1\u001b[0m \u001b[38;5;28;01mdef\u001b[39;00m \u001b[38;5;21mget_timed_book\u001b[39m(symbol: \u001b[38;5;28mstr\u001b[39m, max_depth: \u001b[38;5;28mint\u001b[39m \u001b[38;5;241m=\u001b[39m \u001b[38;5;241m10\u001b[39m) \u001b[38;5;241m-\u001b[39m\u001b[38;5;241m>\u001b[39m \u001b[38;5;28mdict\u001b[39m:\n\u001b[0;32m      2\u001b[0m     book_data \u001b[38;5;241m=\u001b[39m mt5\u001b[38;5;241m.\u001b[39mmarket_book_get(symbol)\n\u001b[1;32m----> 3\u001b[0m     tick_data \u001b[38;5;241m=\u001b[39m mt5\u001b[38;5;241m.\u001b[39msymbol_info_tick(symbol)\n\u001b[0;32m      5\u001b[0m     bids \u001b[38;5;241m=\u001b[39m \u001b[38;5;28msorted\u001b[39m((book_info \u001b[38;5;28;01mfor\u001b[39;00m book_info \u001b[38;5;129;01min\u001b[39;00m book_data \u001b[38;5;28;01mif\u001b[39;00m book_info\u001b[38;5;241m.\u001b[39mtype \u001b[38;5;241m==\u001b[39m \u001b[38;5;241m2\u001b[39m), key\u001b[38;5;241m=\u001b[39m operator\u001b[38;5;241m.\u001b[39mattrgetter(\u001b[38;5;124m\"\u001b[39m\u001b[38;5;124mprice\u001b[39m\u001b[38;5;124m\"\u001b[39m), reverse\u001b[38;5;241m=\u001b[39m\u001b[38;5;28;01mTrue\u001b[39;00m)[:max_depth]\n\u001b[0;32m      6\u001b[0m     asks \u001b[38;5;241m=\u001b[39m \u001b[38;5;28msorted\u001b[39m((book_info \u001b[38;5;28;01mfor\u001b[39;00m book_info \u001b[38;5;129;01min\u001b[39;00m book_data \u001b[38;5;28;01mif\u001b[39;00m book_info\u001b[38;5;241m.\u001b[39mtype \u001b[38;5;241m==\u001b[39m \u001b[38;5;241m1\u001b[39m), key\u001b[38;5;241m=\u001b[39m operator\u001b[38;5;241m.\u001b[39mattrgetter(\u001b[38;5;124m\"\u001b[39m\u001b[38;5;124mprice\u001b[39m\u001b[38;5;124m\"\u001b[39m), reverse\u001b[38;5;241m=\u001b[39m\u001b[38;5;28;01mFalse\u001b[39;00m)[:max_depth]\n",
      "\u001b[1;31mKeyboardInterrupt\u001b[0m: "
     ]
    }
   ],
   "source": [
    "start = datetime.strptime(start_time, '%H:%M:%S').time()\n",
    "end = datetime.strptime(end_time, '%H:%M:%S').time()\n",
    "\n",
    "data = []\n",
    "i=0\n",
    "    \n",
    "# market not opened yet or market is already closed\n",
    "while ( (datetime.now().time() < start) or (datetime.now().time() > end) ): \n",
    "        time.sleep(1)\n",
    "        \n",
    "file_path = folder_path + SYMBOL + datetime.now().date().strftime(\"_%Y-%m-%d\") + \".csv\"\n",
    "\n",
    "old_data = get_timed_book(SYMBOL, MAX_DEPTH)\n",
    "\n",
    "if not exists(file_path):\n",
    "    df = pd.DataFrame([old_data])\n",
    "    df.to_csv(file_path, index=False, mode='w', header=True)\n",
    "    print(f\"New file created ! {file_path}\")\n",
    "else:\n",
    "    print(\"File was already created! No new file created !\")\n",
    "\n",
    "time_now = datetime.now()\n",
    "last_saved_time = time_now    \n",
    "    \n",
    "while start < time_now.time() < end:\n",
    "    time_now = datetime.now()\n",
    "    \n",
    "    if last_saved_time + time_delta < time_now:\n",
    "        last_saved_time = time_now\n",
    "        i+=1\n",
    "        \n",
    "        new_data = get_timed_book(SYMBOL, MAX_DEPTH)\n",
    "        if new_data['time'] != old_data['time']:\n",
    "            data.append(new_data)\n",
    "        old_data = new_data\n",
    "        \n",
    "        if i % batch_size == 0:\n",
    "            df = pd.DataFrame(data)\n",
    "            df.to_csv(file_path, index=False, mode='a', header=False)\n",
    "            i = 0\n",
    "            data = []\n",
    "            print(\"Saved on \", time_now)\n",
    "            \n",
    "mt5.market_book_release(SYMBOL)\n",
    "\n",
    "# shut down connection to the MetaTrader 5 terminal\n",
    "mt5.shutdown()"
   ]
  },
  {
   "cell_type": "code",
   "execution_count": 12,
   "metadata": {},
   "outputs": [
    {
     "data": {
      "text/plain": [
       "True"
      ]
     },
     "execution_count": 12,
     "metadata": {},
     "output_type": "execute_result"
    }
   ],
   "source": [
    "mt5.market_book_release(SYMBOL)\n",
    "\n",
    "# shut down connection to the MetaTrader 5 terminal\n",
    "mt5.shutdown()"
   ]
  },
  {
   "cell_type": "code",
   "execution_count": 24,
   "metadata": {},
   "outputs": [
    {
     "name": "stdout",
     "output_type": "stream",
     "text": [
      "Data saved to data2/WINM25_2025-05-30.parquet\n",
      "Deleted the CSV file: data2/WINM25_2025-05-30.csv\n"
     ]
    }
   ],
   "source": [
    "df_final = pd.read_csv(file_path)\n",
    "df_final.to_parquet(file_path.replace('.csv', '.parquet'), index=False)\n",
    "print(f\"Data saved to {file_path.replace('.csv', '.parquet')}\")\n",
    "\n",
    "# Deleting the CSV file after conversion to Parquet\n",
    "import os\n",
    "if os.path.exists(file_path):\n",
    "    os.remove(file_path)\n",
    "    print(f\"Deleted the CSV file: {file_path}\")"
   ]
  }
 ],
 "metadata": {
  "kernelspec": {
   "display_name": "Python 3",
   "language": "python",
   "name": "python3"
  },
  "language_info": {
   "codemirror_mode": {
    "name": "ipython",
    "version": 3
   },
   "file_extension": ".py",
   "mimetype": "text/x-python",
   "name": "python",
   "nbconvert_exporter": "python",
   "pygments_lexer": "ipython3",
   "version": "3.11.3"
  }
 },
 "nbformat": 4,
 "nbformat_minor": 4
}
